{
  "nbformat": 4,
  "nbformat_minor": 0,
  "metadata": {
    "colab": {
      "name": "Multi Dense (Neural) 2Table.ipynb",
      "provenance": [],
      "authorship_tag": "ABX9TyMWqraZrCqWwNtlqMXikBwX"
    },
    "kernelspec": {
      "name": "python3",
      "display_name": "Python 3"
    },
    "language_info": {
      "name": "python"
    }
  },
  "cells": [
    {
      "cell_type": "code",
      "execution_count": null,
      "metadata": {
        "colab": {
          "base_uri": "https://localhost:8080/"
        },
        "id": "yiH_hLnAKXeh",
        "outputId": "4d1e75d1-8b82-4ee8-e7fd-b5ba3cefa0b9"
      },
      "outputs": [
        {
          "output_type": "execute_result",
          "data": {
            "text/plain": [
              "<keras.callbacks.History at 0x7f6895922b90>"
            ]
          },
          "metadata": {},
          "execution_count": 9
        }
      ],
      "source": [
        "import matplotlib.pyplot as plt\n",
        "import tensorflow as tf\n",
        "import logging\n",
        "import numpy as np\n",
        "\n",
        "logger=tf.get_logger()\n",
        "logger.setLevel(logging.ERROR)\n",
        "\n",
        "q = np.array([1,2,3,4,5,6,7,8,9],dtype=float)\n",
        "a=np.array([2,4,6,8,10,12,14,16,18], dtype=float)\n",
        "\n",
        "model = tf.keras.Sequential([\n",
        "                             tf.keras.layers.Dense(units=4,input_shape=[1]),\n",
        "                             tf.keras.layers.Dense(units=4),\n",
        "                             tf.keras.layers.Dense(units=1)\n",
        "])\n",
        "\n",
        "model.compile(loss='mean_squared_error',optimizer=tf.keras.optimizers.Adam(0.1))\n",
        "\n",
        "model.fit(q,a,epochs=500,verbose=False)\n",
        "\n"
      ]
    },
    {
      "cell_type": "code",
      "source": [
        "print(model.predict([100.0])[0])"
      ],
      "metadata": {
        "colab": {
          "base_uri": "https://localhost:8080/"
        },
        "id": "ILGwFHmakfhH",
        "outputId": "0a41ff7e-06f0-46b5-dc4e-bbe3051a966d"
      },
      "execution_count": null,
      "outputs": [
        {
          "output_type": "stream",
          "name": "stdout",
          "text": [
            "[200.00002]\n"
          ]
        }
      ]
    }
  ]
}