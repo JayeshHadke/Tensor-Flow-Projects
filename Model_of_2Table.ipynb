{
  "nbformat": 4,
  "nbformat_minor": 0,
  "metadata": {
    "colab": {
      "name": "Model of 2Table.ipynb",
      "provenance": [],
      "authorship_tag": "ABX9TyNs1NH19X1zp97Ghm6qmqcP"
    },
    "kernelspec": {
      "name": "python3",
      "display_name": "Python 3"
    },
    "language_info": {
      "name": "python"
    }
  },
  "cells": [
    {
      "cell_type": "code",
      "execution_count": null,
      "metadata": {
        "id": "tRuJ3xVX-o7M",
        "colab": {
          "base_uri": "https://localhost:8080/",
          "height": 296
        },
        "outputId": "17a67731-142f-4621-ab88-e581aebae452"
      },
      "outputs": [
        {
          "output_type": "stream",
          "name": "stdout",
          "text": [
            "[[180.34059]]\n"
          ]
        },
        {
          "output_type": "display_data",
          "data": {
            "text/plain": [
              "<Figure size 432x288 with 1 Axes>"
            ],
            "image/png": "[encoded data removed]"
          },
          "metadata": {
            "needs_background": "light"
          }
        }
      ],
      "source": [
        "import tensorflow as tf\n",
        "import matplotlib.pyplot as plt\n",
        "import logging\n",
        "import numpy as np\n",
        "\n",
        "logger=tf.get_logger()\n",
        "logger.setLevel(logging.ERROR)\n",
        "\n",
        "q = np.array([1,2,3,4,5,6,7,8,9])\n",
        "a =np.array([2,4,6,8,10,12,14,16,18])\n",
        "\n",
        "model=tf.keras.Sequential([\n",
        "                           tf.keras.layers.Dense(units=1,input_shape=[1])\n",
        "])\n",
        "\n",
        "model.compile(loss=\"mean_squared_error\",optimizer=tf.keras.optimizers.Adam(0.1))\n",
        "\n",
        "history=model.fit(q,a,epochs=50,verbose=False)\n",
        "\n",
        "plt.xlabel(\"X\")\n",
        "plt.ylabel(\"y\")\n",
        "plt.plot(history.history['loss'])\n",
        "\n",
        "print(model.predict([100.0]))\n"
      ]
    }
  ]
}